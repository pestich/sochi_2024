{
 "cells": [
  {
   "cell_type": "code",
   "execution_count": 1,
   "metadata": {
    "tags": []
   },
   "outputs": [
    {
     "name": "stderr",
     "output_type": "stream",
     "text": [
      "/home/emiliia/anaconda3/lib/python3.11/site-packages/transformers/utils/generic.py:441: UserWarning: torch.utils._pytree._register_pytree_node is deprecated. Please use torch.utils._pytree.register_pytree_node instead.\n",
      "  _torch_pytree._register_pytree_node(\n",
      "/home/emiliia/anaconda3/lib/python3.11/site-packages/transformers/utils/generic.py:309: UserWarning: torch.utils._pytree._register_pytree_node is deprecated. Please use torch.utils._pytree.register_pytree_node instead.\n",
      "  _torch_pytree._register_pytree_node(\n",
      "/home/emiliia/anaconda3/lib/python3.11/site-packages/transformers/utils/generic.py:309: UserWarning: torch.utils._pytree._register_pytree_node is deprecated. Please use torch.utils._pytree.register_pytree_node instead.\n",
      "  _torch_pytree._register_pytree_node(\n"
     ]
    }
   ],
   "source": [
    "import functools\n",
    "import torch\n",
    "from transformers import AutoTokenizer, BertForSequenceClassification, Trainer, TrainingArguments, AutoModelForSequenceClassification\n",
    "from datasets import Dataset, DatasetDict\n",
    "from sklearn.model_selection import train_test_split\n",
    "from sklearn.preprocessing import LabelEncoder\n",
    "import pandas as pd\n",
    "import numpy as np\n",
    "from sklearn.metrics import f1_score\n",
    "from sklearn.metrics import confusion_matrix, classification_report\n",
    "import seaborn as sns\n",
    "import matplotlib.pyplot as plt"
   ]
  },
  {
   "cell_type": "code",
   "execution_count": 2,
   "metadata": {
    "tags": []
   },
   "outputs": [],
   "source": [
    "# Загрузка данных\n",
    "df_train = pd.read_csv(\"files_rtf.csv\")\n",
    "df_test = pd.read_csv('sample.csv').dropna()\n",
    "df_resh = pd.read_csv(\"resh.csv\")\n",
    "\n",
    "# Объединение датасетов\n",
    "df_combined = pd.concat([df_train, df_test, df_resh], ignore_index=True)\n",
    "\n",
    "# Перемешивание данных\n",
    "df_combined = df_combined.sample(frac=1, random_state=777).reset_index(drop=True)\n",
    "\n",
    "# Инициализация и применение LabelEncoder\n",
    "label_encoder = LabelEncoder()\n",
    "df_combined['class'] = label_encoder.fit_transform(df_combined['class'])\n",
    "df_combined['text'] = df_combined['text'].astype(str)\n",
    "\n",
    "train_df, temp_df = train_test_split(df_combined, test_size=0.3, random_state=777)\n",
    "val_df, test_df = train_test_split(temp_df, test_size=0.5, random_state=777)\n",
    "\n",
    "# Создание датасетов для Hugging Face's datasets library\n",
    "train_ds = Dataset.from_dict({'text': train_df['text'], 'class': train_df['class']})\n",
    "val_ds = Dataset.from_dict({'text': val_df['text'], 'class': val_df['class']})\n",
    "test_ds = Dataset.from_dict({'text': test_df['text'], 'class': test_df['class']})\n",
    "datasets = DatasetDict({'train': train_ds, 'val': val_ds, 'test': test_ds})"
   ]
  },
  {
   "cell_type": "code",
   "execution_count": 3,
   "metadata": {
    "tags": []
   },
   "outputs": [
    {
     "data": {
      "application/vnd.jupyter.widget-view+json": {
       "model_id": "",
       "version_major": 2,
       "version_minor": 0
      },
      "text/plain": [
       "Map:   0%|          | 0/847 [00:00<?, ? examples/s]"
      ]
     },
     "metadata": {},
     "output_type": "display_data"
    },
    {
     "data": {
      "application/vnd.jupyter.widget-view+json": {
       "model_id": "",
       "version_major": 2,
       "version_minor": 0
      },
      "text/plain": [
       "Map:   0%|          | 0/181 [00:00<?, ? examples/s]"
      ]
     },
     "metadata": {},
     "output_type": "display_data"
    },
    {
     "data": {
      "application/vnd.jupyter.widget-view+json": {
       "model_id": "",
       "version_major": 2,
       "version_minor": 0
      },
      "text/plain": [
       "Map:   0%|          | 0/182 [00:00<?, ? examples/s]"
      ]
     },
     "metadata": {},
     "output_type": "display_data"
    },
    {
     "name": "stderr",
     "output_type": "stream",
     "text": [
      "Some weights of BertForSequenceClassification were not initialized from the model checkpoint at DeepPavlov/rubert-base-cased and are newly initialized: ['classifier.bias', 'classifier.weight']\n",
      "You should probably TRAIN this model on a down-stream task to be able to use it for predictions and inference.\n"
     ]
    },
    {
     "data": {
      "text/plain": [
       "BertForSequenceClassification(\n",
       "  (bert): BertModel(\n",
       "    (embeddings): BertEmbeddings(\n",
       "      (word_embeddings): Embedding(119547, 768, padding_idx=0)\n",
       "      (position_embeddings): Embedding(512, 768)\n",
       "      (token_type_embeddings): Embedding(2, 768)\n",
       "      (LayerNorm): LayerNorm((768,), eps=1e-12, elementwise_affine=True)\n",
       "      (dropout): Dropout(p=0.1, inplace=False)\n",
       "    )\n",
       "    (encoder): BertEncoder(\n",
       "      (layer): ModuleList(\n",
       "        (0-11): 12 x BertLayer(\n",
       "          (attention): BertAttention(\n",
       "            (self): BertSelfAttention(\n",
       "              (query): Linear(in_features=768, out_features=768, bias=True)\n",
       "              (key): Linear(in_features=768, out_features=768, bias=True)\n",
       "              (value): Linear(in_features=768, out_features=768, bias=True)\n",
       "              (dropout): Dropout(p=0.1, inplace=False)\n",
       "            )\n",
       "            (output): BertSelfOutput(\n",
       "              (dense): Linear(in_features=768, out_features=768, bias=True)\n",
       "              (LayerNorm): LayerNorm((768,), eps=1e-12, elementwise_affine=True)\n",
       "              (dropout): Dropout(p=0.1, inplace=False)\n",
       "            )\n",
       "          )\n",
       "          (intermediate): BertIntermediate(\n",
       "            (dense): Linear(in_features=768, out_features=3072, bias=True)\n",
       "            (intermediate_act_fn): GELUActivation()\n",
       "          )\n",
       "          (output): BertOutput(\n",
       "            (dense): Linear(in_features=3072, out_features=768, bias=True)\n",
       "            (LayerNorm): LayerNorm((768,), eps=1e-12, elementwise_affine=True)\n",
       "            (dropout): Dropout(p=0.1, inplace=False)\n",
       "          )\n",
       "        )\n",
       "      )\n",
       "    )\n",
       "    (pooler): BertPooler(\n",
       "      (dense): Linear(in_features=768, out_features=768, bias=True)\n",
       "      (activation): Tanh()\n",
       "    )\n",
       "  )\n",
       "  (dropout): Dropout(p=0.1, inplace=False)\n",
       "  (classifier): Linear(in_features=768, out_features=11, bias=True)\n",
       ")"
      ]
     },
     "execution_count": 3,
     "metadata": {},
     "output_type": "execute_result"
    }
   ],
   "source": [
    "# Загрузка токенизатора и модели\n",
    "model_name = 'DeepPavlov/rubert-base-cased'\n",
    "tokenizer = AutoTokenizer.from_pretrained(model_name)\n",
    "\n",
    "# Функция токенизации\n",
    "def tokenize_examples(examples, tokenizer):\n",
    "    tokenized_inputs = tokenizer(examples['text'], max_length=512, padding=\"max_length\", truncation=True)\n",
    "    tokenized_inputs['labels'] = examples['class']\n",
    "    return tokenized_inputs\n",
    "\n",
    "# Токенизация датасетов\n",
    "tokenized_datasets = datasets.map(functools.partial(tokenize_examples, tokenizer=tokenizer), batched=True)\n",
    "tokenized_datasets = tokenized_datasets.with_format('torch')\n",
    "\n",
    "# Загрузка модели\n",
    "model = BertForSequenceClassification.from_pretrained(model_name, num_labels=len(set(df_combined['class'])))\n",
    "model.to(torch.device(\"cuda\" if torch.cuda.is_available() else \"cpu\"))"
   ]
  },
  {
   "cell_type": "code",
   "execution_count": 4,
   "metadata": {},
   "outputs": [],
   "source": [
    "def compute_metrics(p):\n",
    "    predictions = np.argmax(p.predictions, axis=1)\n",
    "    decoded_predictions = label_encoder.inverse_transform(predictions)\n",
    "    labels = p.label_ids\n",
    "    decoded_labels = label_encoder.inverse_transform(labels)\n",
    "    f1_weighted = f1_score(decoded_labels, decoded_predictions, average='weighted')\n",
    "    return {'f1_weighted': f1_weighted}"
   ]
  },
  {
   "cell_type": "code",
   "execution_count": 6,
   "metadata": {
    "tags": []
   },
   "outputs": [],
   "source": [
    "# значения на видеокарту с 12ГБ\n",
    "per_device_train_batch_size = 8\n",
    "per_device_eval_batch_size = 16"
   ]
  },
  {
   "cell_type": "code",
   "execution_count": 5,
   "metadata": {
    "tags": []
   },
   "outputs": [],
   "source": [
    "# значения на видеокарту с 16ГБ\n",
    "per_device_train_batch_size = 16\n",
    "per_device_eval_batch_size = 32"
   ]
  },
  {
   "cell_type": "code",
   "execution_count": 7,
   "metadata": {},
   "outputs": [
    {
     "name": "stderr",
     "output_type": "stream",
     "text": [
      "/home/emiliia/anaconda3/lib/python3.11/site-packages/accelerate/accelerator.py:436: FutureWarning: Passing the following arguments to `Accelerator` is deprecated and will be removed in version 1.0 of Accelerate: dict_keys(['dispatch_batches', 'split_batches']). Please pass an `accelerate.DataLoaderConfiguration` instead: \n",
      "dataloader_config = DataLoaderConfiguration(dispatch_batches=None, split_batches=False)\n",
      "  warnings.warn(\n",
      "You're using a BertTokenizerFast tokenizer. Please note that with a fast tokenizer, using the `__call__` method is faster than using a method to encode the text followed by a call to the `pad` method to get a padded encoding.\n"
     ]
    },
    {
     "data": {
      "text/html": [
       "\n",
       "    <div>\n",
       "      \n",
       "      <progress value='636' max='1590' style='width:300px; height:20px; vertical-align: middle;'></progress>\n",
       "      [ 636/1590 03:55 < 05:54, 2.69 it/s, Epoch 6/15]\n",
       "    </div>\n",
       "    <table border=\"1\" class=\"dataframe\">\n",
       "  <thead>\n",
       " <tr style=\"text-align: left;\">\n",
       "      <th>Epoch</th>\n",
       "      <th>Training Loss</th>\n",
       "      <th>Validation Loss</th>\n",
       "      <th>F1 Weighted</th>\n",
       "    </tr>\n",
       "  </thead>\n",
       "  <tbody>\n",
       "    <tr>\n",
       "      <td>1</td>\n",
       "      <td>No log</td>\n",
       "      <td>1.192948</td>\n",
       "      <td>0.567005</td>\n",
       "    </tr>\n",
       "    <tr>\n",
       "      <td>2</td>\n",
       "      <td>No log</td>\n",
       "      <td>0.621901</td>\n",
       "      <td>0.808980</td>\n",
       "    </tr>\n",
       "    <tr>\n",
       "      <td>3</td>\n",
       "      <td>No log</td>\n",
       "      <td>0.338923</td>\n",
       "      <td>0.945749</td>\n",
       "    </tr>\n",
       "    <tr>\n",
       "      <td>4</td>\n",
       "      <td>No log</td>\n",
       "      <td>0.178479</td>\n",
       "      <td>0.977455</td>\n",
       "    </tr>\n",
       "    <tr>\n",
       "      <td>5</td>\n",
       "      <td>0.643300</td>\n",
       "      <td>0.123408</td>\n",
       "      <td>0.967812</td>\n",
       "    </tr>\n",
       "    <tr>\n",
       "      <td>6</td>\n",
       "      <td>0.643300</td>\n",
       "      <td>0.076174</td>\n",
       "      <td>0.983216</td>\n",
       "    </tr>\n",
       "  </tbody>\n",
       "</table><p>"
      ],
      "text/plain": [
       "<IPython.core.display.HTML object>"
      ]
     },
     "metadata": {},
     "output_type": "display_data"
    },
    {
     "name": "stderr",
     "output_type": "stream",
     "text": [
      "Checkpoint destination directory ./results/checkpoint-106 already exists and is non-empty.Saving will proceed but saved results may be invalid.\n",
      "Checkpoint destination directory ./results/checkpoint-212 already exists and is non-empty.Saving will proceed but saved results may be invalid.\n",
      "Checkpoint destination directory ./results/checkpoint-318 already exists and is non-empty.Saving will proceed but saved results may be invalid.\n",
      "Checkpoint destination directory ./results/checkpoint-424 already exists and is non-empty.Saving will proceed but saved results may be invalid.\n",
      "Checkpoint destination directory ./results/checkpoint-530 already exists and is non-empty.Saving will proceed but saved results may be invalid.\n"
     ]
    },
    {
     "name": "stdout",
     "output_type": "stream",
     "text": [
      "No improvement in metrics for 2 evaluations, stopping training.\n"
     ]
    },
    {
     "name": "stderr",
     "output_type": "stream",
     "text": [
      "Checkpoint destination directory ./results/checkpoint-636 already exists and is non-empty.Saving will proceed but saved results may be invalid.\n"
     ]
    },
    {
     "data": {
      "text/plain": [
       "TrainOutput(global_step=636, training_loss=0.5145252808085028, metrics={'train_runtime': 236.4352, 'train_samples_per_second': 53.736, 'train_steps_per_second': 6.725, 'total_flos': 1337238433327104.0, 'train_loss': 0.5145252808085028, 'epoch': 6.0})"
      ]
     },
     "execution_count": 7,
     "metadata": {},
     "output_type": "execute_result"
    }
   ],
   "source": [
    "import numpy as np\n",
    "from transformers import Trainer, TrainingArguments, TrainerCallback\n",
    "\n",
    "class EarlyStoppingCallback(TrainerCallback):\n",
    "    \"\"\"Колбэк для ранней остановки обучения.\"\"\"\n",
    "    def __init__(self, early_stopping_patience: int = 3, early_stopping_threshold: float = 0.0):\n",
    "        self.early_stopping_patience = early_stopping_patience\n",
    "        self.early_stopping_threshold = early_stopping_threshold\n",
    "        self.best_metric = None\n",
    "        self.patience_counter = 0\n",
    "\n",
    "    def on_evaluate(self, args, state, control, **kwargs):\n",
    "        # Получаем последнее значение метрики\n",
    "        eval_metric = kwargs['metrics']['eval_f1_weighted']\n",
    "        \n",
    "        if self.best_metric is None or eval_metric > self.best_metric + self.early_stopping_threshold:\n",
    "            self.best_metric = eval_metric\n",
    "            self.patience_counter = 0\n",
    "        else:\n",
    "            self.patience_counter += 1\n",
    "        \n",
    "        if self.patience_counter >= self.early_stopping_patience:\n",
    "            print(\"No improvement in metrics for {} evaluations, stopping training.\".format(self.early_stopping_patience))\n",
    "            control.should_training_stop = True\n",
    "\n",
    "# Настройка параметров обучения\n",
    "training_args = TrainingArguments(\n",
    "    output_dir='./results',\n",
    "    evaluation_strategy='epoch',\n",
    "    save_strategy='epoch',\n",
    "    learning_rate=1e-05,\n",
    "    per_device_train_batch_size=per_device_train_batch_size,\n",
    "    per_device_eval_batch_size=per_device_eval_batch_size,\n",
    "    num_train_epochs=15,\n",
    "    weight_decay=0.01,\n",
    "    load_best_model_at_end=True,\n",
    "    metric_for_best_model='f1_weighted',\n",
    "    greater_is_better=True\n",
    ")\n",
    "\n",
    "# Инициализация тренера\n",
    "trainer = Trainer(\n",
    "    model=model,\n",
    "    args=training_args,\n",
    "    train_dataset=tokenized_datasets['train'],\n",
    "    eval_dataset=tokenized_datasets['val'],\n",
    "    compute_metrics=lambda p: {\"f1_weighted\": f1_score(p.label_ids, np.argmax(p.predictions, axis=1), average='weighted')},\n",
    "    tokenizer=tokenizer,\n",
    "    callbacks=[EarlyStoppingCallback(early_stopping_patience=2, early_stopping_threshold=0.01)]\n",
    ")\n",
    "\n",
    "# Начало тренировки модели\n",
    "trainer.train()"
   ]
  },
  {
   "cell_type": "code",
   "execution_count": 8,
   "metadata": {},
   "outputs": [
    {
     "data": {
      "text/html": [],
      "text/plain": [
       "<IPython.core.display.HTML object>"
      ]
     },
     "metadata": {},
     "output_type": "display_data"
    },
    {
     "name": "stdout",
     "output_type": "stream",
     "text": [
      "F1-Score (Weighted) on Test Set: 0.9666270439701927\n"
     ]
    }
   ],
   "source": [
    "# Выполнение предсказаний на тестовом датасете\n",
    "test_results = trainer.predict(tokenized_datasets['test'])\n",
    "\n",
    "# Получение предсказанных меток и реальных меток\n",
    "predictions = np.argmax(test_results.predictions, axis=-1)\n",
    "true_labels = test_results.label_ids\n",
    "\n",
    "# Вычисление метрик\n",
    "test_f1_weighted = f1_score(true_labels, predictions, average='weighted')\n",
    "print(f\"F1-Score (Weighted) on Test Set: {test_f1_weighted}\")"
   ]
  },
  {
   "cell_type": "code",
   "execution_count": 9,
   "metadata": {},
   "outputs": [
    {
     "data": {
      "text/html": [],
      "text/plain": [
       "<IPython.core.display.HTML object>"
      ]
     },
     "metadata": {},
     "output_type": "display_data"
    }
   ],
   "source": [
    "# Выполнение предсказаний на тестовом датасете, если это еще не сделано\n",
    "test_results = trainer.predict(tokenized_datasets['test'])\n",
    "predictions = np.argmax(test_results.predictions, axis=-1)\n",
    "true_labels = test_results.label_ids"
   ]
  },
  {
   "cell_type": "code",
   "execution_count": 10,
   "metadata": {},
   "outputs": [
    {
     "data": {
      "image/png": "[encoded data removed]",
      "text/plain": [
       "<Figure size 1000x800 with 2 Axes>"
      ]
     },
     "metadata": {},
     "output_type": "display_data"
    }
   ],
   "source": [
    "# Создание матрицы ошибок\n",
    "conf_matrix = confusion_matrix(true_labels, predictions, normalize='true')\n",
    "\n",
    "# Визуализация матрицы ошибок\n",
    "plt.figure(figsize=(10,8))\n",
    "sns.heatmap(conf_matrix, annot=True, cmap='Blues', xticklabels=label_encoder.classes_, yticklabels=label_encoder.classes_)\n",
    "plt.xlabel('Predicted Labels')\n",
    "plt.ylabel('True Labels')\n",
    "plt.title('Confusion Matrix')\n",
    "plt.show()"
   ]
  },
  {
   "cell_type": "code",
   "execution_count": 11,
   "metadata": {},
   "outputs": [
    {
     "name": "stdout",
     "output_type": "stream",
     "text": [
      "                precision    recall  f1-score   support\n",
      "\n",
      "           act       0.91      0.83      0.87        12\n",
      "   application       1.00      1.00      1.00         5\n",
      "   arrangement       1.00      0.98      0.99        44\n",
      "          bill       1.00      1.00      1.00         3\n",
      "      contract       0.90      0.95      0.92        19\n",
      "contract offer       1.00      0.86      0.92         7\n",
      " determination       0.92      1.00      0.96        11\n",
      "       invoice       0.90      1.00      0.95         9\n",
      "         order       0.98      1.00      0.99        54\n",
      "         proxy       1.00      1.00      1.00        13\n",
      "       statute       1.00      0.80      0.89         5\n",
      "\n",
      "      accuracy                           0.97       182\n",
      "     macro avg       0.96      0.95      0.95       182\n",
      "  weighted avg       0.97      0.97      0.97       182\n",
      "\n"
     ]
    }
   ],
   "source": [
    "# Вывод отчета по классификации\n",
    "print(classification_report(true_labels, predictions, target_names=label_encoder.classes_))"
   ]
  },
  {
   "cell_type": "code",
   "execution_count": 13,
   "metadata": {
    "tags": []
   },
   "outputs": [
    {
     "data": {
      "text/plain": [
       "{0: 'act',\n",
       " 1: 'application',\n",
       " 2: 'arrangement',\n",
       " 3: 'bill',\n",
       " 4: 'contract',\n",
       " 5: 'contract offer',\n",
       " 6: 'determination',\n",
       " 7: 'invoice',\n",
       " 8: 'order',\n",
       " 9: 'proxy',\n",
       " 10: 'statute'}"
      ]
     },
     "execution_count": 13,
     "metadata": {},
     "output_type": "execute_result"
    }
   ],
   "source": [
    "label2id = {k: v for v, k in enumerate(label_encoder.classes_)}\n",
    "id2label = {y:x for x,y in label2id.items()}\n",
    "trainer.model.config.label2id = label2id\n",
    "trainer.model.config.id2label = id2label\n",
    "trainer.model.config.id2label"
   ]
  },
  {
   "cell_type": "code",
   "execution_count": 14,
   "metadata": {
    "tags": []
   },
   "outputs": [
    {
     "data": {
      "text/plain": [
       "('./best_model/tokenizer_config.json',\n",
       " './best_model/special_tokens_map.json',\n",
       " './best_model/vocab.txt',\n",
       " './best_model/added_tokens.json',\n",
       " './best_model/tokenizer.json')"
      ]
     },
     "execution_count": 14,
     "metadata": {},
     "output_type": "execute_result"
    }
   ],
   "source": [
    "model_path = \"./best_model\"\n",
    "trainer.model.save_pretrained(model_path)\n",
    "trainer.tokenizer.save_pretrained(model_path)"
   ]
  },
  {
   "cell_type": "code",
   "execution_count": null,
   "metadata": {},
   "outputs": [],
   "source": []
  }
 ],
 "metadata": {
  "kernelspec": {
   "display_name": "Python 3 (ipykernel)",
   "language": "python",
   "name": "python3"
  },
  "language_info": {
   "codemirror_mode": {
    "name": "ipython",
    "version": 3
   },
   "file_extension": ".py",
   "mimetype": "text/x-python",
   "name": "python",
   "nbconvert_exporter": "python",
   "pygments_lexer": "ipython3",
   "version": "3.11.5"
  }
 },
 "nbformat": 4,
 "nbformat_minor": 4
}
